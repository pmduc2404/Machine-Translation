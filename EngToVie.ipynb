{
 "cells": [
  {
   "cell_type": "code",
   "execution_count": 160,
   "id": "6a2f3b37",
   "metadata": {
    "execution": {
     "iopub.execute_input": "2024-07-06T16:49:09.337957Z",
     "iopub.status.busy": "2024-07-06T16:49:09.337614Z",
     "iopub.status.idle": "2024-07-06T16:49:17.881015Z",
     "shell.execute_reply": "2024-07-06T16:49:17.880177Z"
    },
    "papermill": {
     "duration": 8.559081,
     "end_time": "2024-07-06T16:49:17.883395",
     "exception": false,
     "start_time": "2024-07-06T16:49:09.324314",
     "status": "completed"
    },
    "tags": []
   },
   "outputs": [],
   "source": [
    "import torch\n",
    "from torch import nn\n",
    "from torch.nn import functional as F\n",
    "from torch.utils.data import DataLoader, Dataset\n",
    "from torchvision import datasets, transforms\n",
    "import torchtext\n",
    "import pandas as pd\n",
    "import os\n",
    "from string import punctuation\n",
    "from nltk import word_tokenize\n",
    "from torchtext.vocab import build_vocab_from_iterator\n",
    "import math\n",
    "from sklearn.model_selection import train_test_split\n",
    "import torchtext; torchtext.disable_torchtext_deprecation_warning()\n",
    "from tqdm import tqdm\n",
    "import models\n",
    "import data_reader\n",
    "device = torch.device('cuda' if torch.cuda.is_available() else 'cpu')\n"
   ]
  },
  {
   "cell_type": "code",
   "execution_count": 4,
   "id": "1b1ec06d",
   "metadata": {
    "execution": {
     "iopub.execute_input": "2024-07-06T16:49:17.974270Z",
     "iopub.status.busy": "2024-07-06T16:49:17.973947Z",
     "iopub.status.idle": "2024-07-06T16:49:18.572154Z",
     "shell.execute_reply": "2024-07-06T16:49:18.571338Z"
    },
    "papermill": {
     "duration": 0.613568,
     "end_time": "2024-07-06T16:49:18.574397",
     "exception": false,
     "start_time": "2024-07-06T16:49:17.960829",
     "status": "completed"
    },
    "tags": []
   },
   "outputs": [],
   "source": [
    "data_vie = data_reader.read_text(\"./eng_vie/vi_sents\")\n",
    "data_eng = data_reader.read_text(\"./eng_vie/en_sents\")\n",
    "\n",
    "sents_vie = data_reader.to_lines(data_vie)\n",
    "sents_eng = data_reader.to_lines(data_eng)"
   ]
  },
  {
   "cell_type": "code",
   "execution_count": 5,
   "id": "17a8c77f",
   "metadata": {
    "execution": {
     "iopub.execute_input": "2024-07-06T16:49:18.599811Z",
     "iopub.status.busy": "2024-07-06T16:49:18.598805Z",
     "iopub.status.idle": "2024-07-06T16:49:18.648719Z",
     "shell.execute_reply": "2024-07-06T16:49:18.647942Z"
    },
    "papermill": {
     "duration": 0.06484,
     "end_time": "2024-07-06T16:49:18.650978",
     "exception": false,
     "start_time": "2024-07-06T16:49:18.586138",
     "status": "completed"
    },
    "tags": []
   },
   "outputs": [],
   "source": [
    "dataset = pd.DataFrame({'sents_eng': sents_eng, 'sents_vie': sents_vie})"
   ]
  },
  {
   "cell_type": "code",
   "execution_count": 6,
   "id": "1b19ae1c",
   "metadata": {
    "execution": {
     "iopub.execute_input": "2024-07-06T16:49:18.675865Z",
     "iopub.status.busy": "2024-07-06T16:49:18.675545Z",
     "iopub.status.idle": "2024-07-06T16:49:18.704677Z",
     "shell.execute_reply": "2024-07-06T16:49:18.703765Z"
    },
    "papermill": {
     "duration": 0.043505,
     "end_time": "2024-07-06T16:49:18.706673",
     "exception": false,
     "start_time": "2024-07-06T16:49:18.663168",
     "status": "completed"
    },
    "tags": []
   },
   "outputs": [
    {
     "data": {
      "text/html": [
       "<div>\n",
       "<style scoped>\n",
       "    .dataframe tbody tr th:only-of-type {\n",
       "        vertical-align: middle;\n",
       "    }\n",
       "\n",
       "    .dataframe tbody tr th {\n",
       "        vertical-align: top;\n",
       "    }\n",
       "\n",
       "    .dataframe thead th {\n",
       "        text-align: right;\n",
       "    }\n",
       "</style>\n",
       "<table border=\"1\" class=\"dataframe\">\n",
       "  <thead>\n",
       "    <tr style=\"text-align: right;\">\n",
       "      <th></th>\n",
       "      <th>sents_eng</th>\n",
       "      <th>sents_vie</th>\n",
       "    </tr>\n",
       "  </thead>\n",
       "  <tbody>\n",
       "    <tr>\n",
       "      <th>0</th>\n",
       "      <td>Please put the dustpan in the broom closet</td>\n",
       "      <td>xin vui lòng đặt người quét rác trong tủ chổi</td>\n",
       "    </tr>\n",
       "    <tr>\n",
       "      <th>1</th>\n",
       "      <td>Be quiet for a moment.</td>\n",
       "      <td>im lặng một lát</td>\n",
       "    </tr>\n",
       "    <tr>\n",
       "      <th>2</th>\n",
       "      <td>Read this</td>\n",
       "      <td>đọc này</td>\n",
       "    </tr>\n",
       "    <tr>\n",
       "      <th>3</th>\n",
       "      <td>Tom persuaded the store manager to give him ba...</td>\n",
       "      <td>tom thuyết phục người quản lý cửa hàng trả lại...</td>\n",
       "    </tr>\n",
       "    <tr>\n",
       "      <th>4</th>\n",
       "      <td>Friendship consists of mutual understanding</td>\n",
       "      <td>tình bạn bao gồm sự hiểu biết lẫn nhau</td>\n",
       "    </tr>\n",
       "  </tbody>\n",
       "</table>\n",
       "</div>"
      ],
      "text/plain": [
       "                                           sents_eng  \\\n",
       "0         Please put the dustpan in the broom closet   \n",
       "1                             Be quiet for a moment.   \n",
       "2                                          Read this   \n",
       "3  Tom persuaded the store manager to give him ba...   \n",
       "4        Friendship consists of mutual understanding   \n",
       "\n",
       "                                           sents_vie  \n",
       "0      xin vui lòng đặt người quét rác trong tủ chổi  \n",
       "1                                    im lặng một lát  \n",
       "2                                            đọc này  \n",
       "3  tom thuyết phục người quản lý cửa hàng trả lại...  \n",
       "4             tình bạn bao gồm sự hiểu biết lẫn nhau  "
      ]
     },
     "execution_count": 6,
     "metadata": {},
     "output_type": "execute_result"
    }
   ],
   "source": [
    "dataset.head()"
   ]
  },
  {
   "cell_type": "code",
   "execution_count": 7,
   "id": "b209837b",
   "metadata": {
    "execution": {
     "iopub.execute_input": "2024-07-06T16:49:18.731522Z",
     "iopub.status.busy": "2024-07-06T16:49:18.731230Z",
     "iopub.status.idle": "2024-07-06T16:49:18.737294Z",
     "shell.execute_reply": "2024-07-06T16:49:18.736447Z"
    },
    "papermill": {
     "duration": 0.020531,
     "end_time": "2024-07-06T16:49:18.739237",
     "exception": false,
     "start_time": "2024-07-06T16:49:18.718706",
     "status": "completed"
    },
    "tags": []
   },
   "outputs": [],
   "source": [
    "def clean_text(text, lowercase=False, remove_punc=False, remove_num=False, sos_token='<sos>', eos_token='<eos>'):\n",
    "    if lowercase:\n",
    "        text = text.lower()\n",
    "    if remove_punc:\n",
    "        text = ''.join([ch for ch in text if ch not in punctuation])\n",
    "    if remove_num:\n",
    "        text = ''.join([ch for ch in text if ch not in '1234567890'])\n",
    "    text = [sos_token] + word_tokenize(text) + [eos_token]\n",
    "    return text"
   ]
  },
  {
   "cell_type": "code",
   "execution_count": 8,
   "id": "6ba42b27",
   "metadata": {
    "execution": {
     "iopub.execute_input": "2024-07-06T16:49:18.764057Z",
     "iopub.status.busy": "2024-07-06T16:49:18.763746Z",
     "iopub.status.idle": "2024-07-06T16:50:25.664571Z",
     "shell.execute_reply": "2024-07-06T16:50:25.663526Z"
    },
    "papermill": {
     "duration": 66.915928,
     "end_time": "2024-07-06T16:50:25.667126",
     "exception": false,
     "start_time": "2024-07-06T16:49:18.751198",
     "status": "completed"
    },
    "tags": []
   },
   "outputs": [],
   "source": [
    "dataset['clean_eng'] = dataset['sents_eng'].apply(lambda x: clean_text(x, lowercase=True, remove_punc=True, remove_num=False))\n",
    "dataset['clean_vie'] = dataset['sents_vie'].apply(lambda x: clean_text(x, lowercase=True, remove_punc=True, remove_num=False))"
   ]
  },
  {
   "cell_type": "code",
   "execution_count": 9,
   "id": "f98757aa",
   "metadata": {
    "execution": {
     "iopub.execute_input": "2024-07-06T16:50:25.692327Z",
     "iopub.status.busy": "2024-07-06T16:50:25.691967Z",
     "iopub.status.idle": "2024-07-06T16:50:25.706942Z",
     "shell.execute_reply": "2024-07-06T16:50:25.706135Z"
    },
    "papermill": {
     "duration": 0.029449,
     "end_time": "2024-07-06T16:50:25.708916",
     "exception": false,
     "start_time": "2024-07-06T16:50:25.679467",
     "status": "completed"
    },
    "tags": []
   },
   "outputs": [
    {
     "data": {
      "text/html": [
       "<div>\n",
       "<style scoped>\n",
       "    .dataframe tbody tr th:only-of-type {\n",
       "        vertical-align: middle;\n",
       "    }\n",
       "\n",
       "    .dataframe tbody tr th {\n",
       "        vertical-align: top;\n",
       "    }\n",
       "\n",
       "    .dataframe thead th {\n",
       "        text-align: right;\n",
       "    }\n",
       "</style>\n",
       "<table border=\"1\" class=\"dataframe\">\n",
       "  <thead>\n",
       "    <tr style=\"text-align: right;\">\n",
       "      <th></th>\n",
       "      <th>sents_eng</th>\n",
       "      <th>sents_vie</th>\n",
       "      <th>clean_eng</th>\n",
       "      <th>clean_vie</th>\n",
       "    </tr>\n",
       "  </thead>\n",
       "  <tbody>\n",
       "    <tr>\n",
       "      <th>0</th>\n",
       "      <td>Please put the dustpan in the broom closet</td>\n",
       "      <td>xin vui lòng đặt người quét rác trong tủ chổi</td>\n",
       "      <td>[&lt;sos&gt;, please, put, the, dustpan, in, the, br...</td>\n",
       "      <td>[&lt;sos&gt;, xin, vui, lòng, đặt, người, quét, rác,...</td>\n",
       "    </tr>\n",
       "    <tr>\n",
       "      <th>1</th>\n",
       "      <td>Be quiet for a moment.</td>\n",
       "      <td>im lặng một lát</td>\n",
       "      <td>[&lt;sos&gt;, be, quiet, for, a, moment, &lt;eos&gt;]</td>\n",
       "      <td>[&lt;sos&gt;, im, lặng, một, lát, &lt;eos&gt;]</td>\n",
       "    </tr>\n",
       "    <tr>\n",
       "      <th>2</th>\n",
       "      <td>Read this</td>\n",
       "      <td>đọc này</td>\n",
       "      <td>[&lt;sos&gt;, read, this, &lt;eos&gt;]</td>\n",
       "      <td>[&lt;sos&gt;, đọc, này, &lt;eos&gt;]</td>\n",
       "    </tr>\n",
       "    <tr>\n",
       "      <th>3</th>\n",
       "      <td>Tom persuaded the store manager to give him ba...</td>\n",
       "      <td>tom thuyết phục người quản lý cửa hàng trả lại...</td>\n",
       "      <td>[&lt;sos&gt;, tom, persuaded, the, store, manager, t...</td>\n",
       "      <td>[&lt;sos&gt;, tom, thuyết, phục, người, quản, lý, cử...</td>\n",
       "    </tr>\n",
       "    <tr>\n",
       "      <th>4</th>\n",
       "      <td>Friendship consists of mutual understanding</td>\n",
       "      <td>tình bạn bao gồm sự hiểu biết lẫn nhau</td>\n",
       "      <td>[&lt;sos&gt;, friendship, consists, of, mutual, unde...</td>\n",
       "      <td>[&lt;sos&gt;, tình, bạn, bao, gồm, sự, hiểu, biết, l...</td>\n",
       "    </tr>\n",
       "  </tbody>\n",
       "</table>\n",
       "</div>"
      ],
      "text/plain": [
       "                                           sents_eng  \\\n",
       "0         Please put the dustpan in the broom closet   \n",
       "1                             Be quiet for a moment.   \n",
       "2                                          Read this   \n",
       "3  Tom persuaded the store manager to give him ba...   \n",
       "4        Friendship consists of mutual understanding   \n",
       "\n",
       "                                           sents_vie  \\\n",
       "0      xin vui lòng đặt người quét rác trong tủ chổi   \n",
       "1                                    im lặng một lát   \n",
       "2                                            đọc này   \n",
       "3  tom thuyết phục người quản lý cửa hàng trả lại...   \n",
       "4             tình bạn bao gồm sự hiểu biết lẫn nhau   \n",
       "\n",
       "                                           clean_eng  \\\n",
       "0  [<sos>, please, put, the, dustpan, in, the, br...   \n",
       "1          [<sos>, be, quiet, for, a, moment, <eos>]   \n",
       "2                         [<sos>, read, this, <eos>]   \n",
       "3  [<sos>, tom, persuaded, the, store, manager, t...   \n",
       "4  [<sos>, friendship, consists, of, mutual, unde...   \n",
       "\n",
       "                                           clean_vie  \n",
       "0  [<sos>, xin, vui, lòng, đặt, người, quét, rác,...  \n",
       "1                 [<sos>, im, lặng, một, lát, <eos>]  \n",
       "2                           [<sos>, đọc, này, <eos>]  \n",
       "3  [<sos>, tom, thuyết, phục, người, quản, lý, cử...  \n",
       "4  [<sos>, tình, bạn, bao, gồm, sự, hiểu, biết, l...  "
      ]
     },
     "execution_count": 9,
     "metadata": {},
     "output_type": "execute_result"
    }
   ],
   "source": [
    "dataset.head()"
   ]
  },
  {
   "cell_type": "code",
   "execution_count": 10,
   "id": "48193cc0",
   "metadata": {
    "execution": {
     "iopub.execute_input": "2024-07-06T16:50:25.733395Z",
     "iopub.status.busy": "2024-07-06T16:50:25.733122Z",
     "iopub.status.idle": "2024-07-06T16:50:25.737011Z",
     "shell.execute_reply": "2024-07-06T16:50:25.736181Z"
    },
    "papermill": {
     "duration": 0.018267,
     "end_time": "2024-07-06T16:50:25.738945",
     "exception": false,
     "start_time": "2024-07-06T16:50:25.720678",
     "status": "completed"
    },
    "tags": []
   },
   "outputs": [],
   "source": [
    "unk_token = '<unk>'\n",
    "pad_token = '<pad>'\n",
    "sos_token = '<sos>'\n",
    "eos_token = '<eos>'"
   ]
  },
  {
   "cell_type": "code",
   "execution_count": 11,
   "id": "f7b09aef",
   "metadata": {
    "execution": {
     "iopub.execute_input": "2024-07-06T16:50:25.765219Z",
     "iopub.status.busy": "2024-07-06T16:50:25.764923Z",
     "iopub.status.idle": "2024-07-06T16:50:25.769483Z",
     "shell.execute_reply": "2024-07-06T16:50:25.768422Z"
    },
    "papermill": {
     "duration": 0.020792,
     "end_time": "2024-07-06T16:50:25.771705",
     "exception": false,
     "start_time": "2024-07-06T16:50:25.750913",
     "status": "completed"
    },
    "tags": []
   },
   "outputs": [],
   "source": [
    "specials = [unk_token, pad_token, sos_token, eos_token]"
   ]
  },
  {
   "cell_type": "code",
   "execution_count": 12,
   "id": "0fd1dad2",
   "metadata": {
    "execution": {
     "iopub.execute_input": "2024-07-06T16:50:25.798158Z",
     "iopub.status.busy": "2024-07-06T16:50:25.797429Z",
     "iopub.status.idle": "2024-07-06T16:50:27.199633Z",
     "shell.execute_reply": "2024-07-06T16:50:27.198620Z"
    },
    "papermill": {
     "duration": 1.417676,
     "end_time": "2024-07-06T16:50:27.202173",
     "exception": false,
     "start_time": "2024-07-06T16:50:25.784497",
     "status": "completed"
    },
    "tags": []
   },
   "outputs": [],
   "source": [
    "eng_vocab = build_vocab_from_iterator(dataset['clean_eng'], specials = specials)\n",
    "vie_vocab = build_vocab_from_iterator(dataset['clean_vie'], specials = specials)"
   ]
  },
  {
   "cell_type": "code",
   "execution_count": 13,
   "id": "19ab59bb",
   "metadata": {
    "execution": {
     "iopub.execute_input": "2024-07-06T16:50:27.227717Z",
     "iopub.status.busy": "2024-07-06T16:50:27.227407Z",
     "iopub.status.idle": "2024-07-06T16:50:27.237881Z",
     "shell.execute_reply": "2024-07-06T16:50:27.237028Z"
    },
    "papermill": {
     "duration": 0.025483,
     "end_time": "2024-07-06T16:50:27.239842",
     "exception": false,
     "start_time": "2024-07-06T16:50:27.214359",
     "status": "completed"
    },
    "tags": []
   },
   "outputs": [
    {
     "data": {
      "text/plain": [
       "(['<unk>',\n",
       "  '<pad>',\n",
       "  '<sos>',\n",
       "  '<eos>',\n",
       "  'tôi',\n",
       "  'bạn',\n",
       "  'không',\n",
       "  'tom',\n",
       "  'có',\n",
       "  'một'],\n",
       " ['<unk>', '<pad>', '<sos>', '<eos>', 'the', 'to', 'i', 'tom', 'you', 'a'])"
      ]
     },
     "execution_count": 13,
     "metadata": {},
     "output_type": "execute_result"
    }
   ],
   "source": [
    "vie_vocab.get_itos()[:10], eng_vocab.get_itos()[:10]"
   ]
  },
  {
   "cell_type": "code",
   "execution_count": 14,
   "id": "d7e8900a",
   "metadata": {
    "execution": {
     "iopub.execute_input": "2024-07-06T16:50:27.264722Z",
     "iopub.status.busy": "2024-07-06T16:50:27.264468Z",
     "iopub.status.idle": "2024-07-06T16:50:27.268649Z",
     "shell.execute_reply": "2024-07-06T16:50:27.267809Z"
    },
    "papermill": {
     "duration": 0.018828,
     "end_time": "2024-07-06T16:50:27.270636",
     "exception": false,
     "start_time": "2024-07-06T16:50:27.251808",
     "status": "completed"
    },
    "tags": []
   },
   "outputs": [],
   "source": [
    "def text_to_number(text, vocab):\n",
    "    return vocab.lookup_indices(text)"
   ]
  },
  {
   "cell_type": "code",
   "execution_count": 15,
   "id": "459ebba2",
   "metadata": {
    "execution": {
     "iopub.execute_input": "2024-07-06T16:50:27.296145Z",
     "iopub.status.busy": "2024-07-06T16:50:27.295854Z",
     "iopub.status.idle": "2024-07-06T16:50:29.515640Z",
     "shell.execute_reply": "2024-07-06T16:50:29.514578Z"
    },
    "papermill": {
     "duration": 2.235598,
     "end_time": "2024-07-06T16:50:29.518154",
     "exception": false,
     "start_time": "2024-07-06T16:50:27.282556",
     "status": "completed"
    },
    "tags": []
   },
   "outputs": [],
   "source": [
    "dataset['eng_nums'] = dataset['clean_eng'].apply(lambda x: text_to_number(x, eng_vocab))\n",
    "dataset['vie_nums'] = dataset['clean_vie'].apply(lambda x: text_to_number(x, vie_vocab))"
   ]
  },
  {
   "cell_type": "code",
   "execution_count": 16,
   "id": "48f12493",
   "metadata": {
    "execution": {
     "iopub.execute_input": "2024-07-06T16:50:29.543514Z",
     "iopub.status.busy": "2024-07-06T16:50:29.543198Z",
     "iopub.status.idle": "2024-07-06T16:50:29.563004Z",
     "shell.execute_reply": "2024-07-06T16:50:29.562141Z"
    },
    "papermill": {
     "duration": 0.034598,
     "end_time": "2024-07-06T16:50:29.564943",
     "exception": false,
     "start_time": "2024-07-06T16:50:29.530345",
     "status": "completed"
    },
    "tags": []
   },
   "outputs": [
    {
     "data": {
      "text/html": [
       "<div>\n",
       "<style scoped>\n",
       "    .dataframe tbody tr th:only-of-type {\n",
       "        vertical-align: middle;\n",
       "    }\n",
       "\n",
       "    .dataframe tbody tr th {\n",
       "        vertical-align: top;\n",
       "    }\n",
       "\n",
       "    .dataframe thead th {\n",
       "        text-align: right;\n",
       "    }\n",
       "</style>\n",
       "<table border=\"1\" class=\"dataframe\">\n",
       "  <thead>\n",
       "    <tr style=\"text-align: right;\">\n",
       "      <th></th>\n",
       "      <th>sents_eng</th>\n",
       "      <th>sents_vie</th>\n",
       "      <th>clean_eng</th>\n",
       "      <th>clean_vie</th>\n",
       "      <th>eng_nums</th>\n",
       "      <th>vie_nums</th>\n",
       "    </tr>\n",
       "  </thead>\n",
       "  <tbody>\n",
       "    <tr>\n",
       "      <th>0</th>\n",
       "      <td>Please put the dustpan in the broom closet</td>\n",
       "      <td>xin vui lòng đặt người quét rác trong tủ chổi</td>\n",
       "      <td>[&lt;sos&gt;, please, put, the, dustpan, in, the, br...</td>\n",
       "      <td>[&lt;sos&gt;, xin, vui, lòng, đặt, người, quét, rác,...</td>\n",
       "      <td>[2, 104, 145, 4, 15795, 12, 4, 5736, 2020, 3]</td>\n",
       "      <td>[2, 161, 120, 173, 239, 33, 1742, 1282, 31, 92...</td>\n",
       "    </tr>\n",
       "    <tr>\n",
       "      <th>1</th>\n",
       "      <td>Be quiet for a moment.</td>\n",
       "      <td>im lặng một lát</td>\n",
       "      <td>[&lt;sos&gt;, be, quiet, for, a, moment, &lt;eos&gt;]</td>\n",
       "      <td>[&lt;sos&gt;, im, lặng, một, lát, &lt;eos&gt;]</td>\n",
       "      <td>[2, 25, 729, 20, 9, 495, 3]</td>\n",
       "      <td>[2, 668, 606, 9, 1121, 3]</td>\n",
       "    </tr>\n",
       "    <tr>\n",
       "      <th>2</th>\n",
       "      <td>Read this</td>\n",
       "      <td>đọc này</td>\n",
       "      <td>[&lt;sos&gt;, read, this, &lt;eos&gt;]</td>\n",
       "      <td>[&lt;sos&gt;, đọc, này, &lt;eos&gt;]</td>\n",
       "      <td>[2, 244, 19, 3]</td>\n",
       "      <td>[2, 235, 30, 3]</td>\n",
       "    </tr>\n",
       "    <tr>\n",
       "      <th>3</th>\n",
       "      <td>Tom persuaded the store manager to give him ba...</td>\n",
       "      <td>tom thuyết phục người quản lý cửa hàng trả lại...</td>\n",
       "      <td>[&lt;sos&gt;, tom, persuaded, the, store, manager, t...</td>\n",
       "      <td>[&lt;sos&gt;, tom, thuyết, phục, người, quản, lý, cử...</td>\n",
       "      <td>[2, 7, 1982, 4, 576, 1515, 5, 122, 43, 109, 24...</td>\n",
       "      <td>[2, 7, 451, 426, 33, 777, 212, 158, 148, 178, ...</td>\n",
       "    </tr>\n",
       "    <tr>\n",
       "      <th>4</th>\n",
       "      <td>Friendship consists of mutual understanding</td>\n",
       "      <td>tình bạn bao gồm sự hiểu biết lẫn nhau</td>\n",
       "      <td>[&lt;sos&gt;, friendship, consists, of, mutual, unde...</td>\n",
       "      <td>[&lt;sos&gt;, tình, bạn, bao, gồm, sự, hiểu, biết, l...</td>\n",
       "      <td>[2, 2027, 3004, 13, 5537, 2324, 3]</td>\n",
       "      <td>[2, 312, 5, 71, 1257, 57, 211, 37, 1187, 156, 3]</td>\n",
       "    </tr>\n",
       "  </tbody>\n",
       "</table>\n",
       "</div>"
      ],
      "text/plain": [
       "                                           sents_eng  \\\n",
       "0         Please put the dustpan in the broom closet   \n",
       "1                             Be quiet for a moment.   \n",
       "2                                          Read this   \n",
       "3  Tom persuaded the store manager to give him ba...   \n",
       "4        Friendship consists of mutual understanding   \n",
       "\n",
       "                                           sents_vie  \\\n",
       "0      xin vui lòng đặt người quét rác trong tủ chổi   \n",
       "1                                    im lặng một lát   \n",
       "2                                            đọc này   \n",
       "3  tom thuyết phục người quản lý cửa hàng trả lại...   \n",
       "4             tình bạn bao gồm sự hiểu biết lẫn nhau   \n",
       "\n",
       "                                           clean_eng  \\\n",
       "0  [<sos>, please, put, the, dustpan, in, the, br...   \n",
       "1          [<sos>, be, quiet, for, a, moment, <eos>]   \n",
       "2                         [<sos>, read, this, <eos>]   \n",
       "3  [<sos>, tom, persuaded, the, store, manager, t...   \n",
       "4  [<sos>, friendship, consists, of, mutual, unde...   \n",
       "\n",
       "                                           clean_vie  \\\n",
       "0  [<sos>, xin, vui, lòng, đặt, người, quét, rác,...   \n",
       "1                 [<sos>, im, lặng, một, lát, <eos>]   \n",
       "2                           [<sos>, đọc, này, <eos>]   \n",
       "3  [<sos>, tom, thuyết, phục, người, quản, lý, cử...   \n",
       "4  [<sos>, tình, bạn, bao, gồm, sự, hiểu, biết, l...   \n",
       "\n",
       "                                            eng_nums  \\\n",
       "0      [2, 104, 145, 4, 15795, 12, 4, 5736, 2020, 3]   \n",
       "1                        [2, 25, 729, 20, 9, 495, 3]   \n",
       "2                                    [2, 244, 19, 3]   \n",
       "3  [2, 7, 1982, 4, 576, 1515, 5, 122, 43, 109, 24...   \n",
       "4                 [2, 2027, 3004, 13, 5537, 2324, 3]   \n",
       "\n",
       "                                            vie_nums  \n",
       "0  [2, 161, 120, 173, 239, 33, 1742, 1282, 31, 92...  \n",
       "1                          [2, 668, 606, 9, 1121, 3]  \n",
       "2                                    [2, 235, 30, 3]  \n",
       "3  [2, 7, 451, 426, 33, 777, 212, 158, 148, 178, ...  \n",
       "4   [2, 312, 5, 71, 1257, 57, 211, 37, 1187, 156, 3]  "
      ]
     },
     "execution_count": 16,
     "metadata": {},
     "output_type": "execute_result"
    }
   ],
   "source": [
    "dataset.head()"
   ]
  },
  {
   "cell_type": "code",
   "execution_count": 17,
   "id": "1a26a9b5",
   "metadata": {
    "execution": {
     "iopub.execute_input": "2024-07-06T16:50:29.590564Z",
     "iopub.status.busy": "2024-07-06T16:50:29.590282Z",
     "iopub.status.idle": "2024-07-06T16:50:29.595109Z",
     "shell.execute_reply": "2024-07-06T16:50:29.594251Z"
    },
    "papermill": {
     "duration": 0.019824,
     "end_time": "2024-07-06T16:50:29.597096",
     "exception": false,
     "start_time": "2024-07-06T16:50:29.577272",
     "status": "completed"
    },
    "tags": []
   },
   "outputs": [],
   "source": [
    "def train_test(dataset, test_size = 0.2):\n",
    "    train, test = train_test_split(dataset, test_size=test_size, random_state = 42)\n",
    "    train = train.reset_index(drop=True)\n",
    "    test = test.reset_index(drop=True)\n",
    "    return train, test"
   ]
  },
  {
   "cell_type": "code",
   "execution_count": 18,
   "id": "434c932b",
   "metadata": {
    "execution": {
     "iopub.execute_input": "2024-07-06T16:50:29.622738Z",
     "iopub.status.busy": "2024-07-06T16:50:29.622494Z",
     "iopub.status.idle": "2024-07-06T16:50:29.927131Z",
     "shell.execute_reply": "2024-07-06T16:50:29.926270Z"
    },
    "papermill": {
     "duration": 0.31996,
     "end_time": "2024-07-06T16:50:29.929492",
     "exception": false,
     "start_time": "2024-07-06T16:50:29.609532",
     "status": "completed"
    },
    "tags": []
   },
   "outputs": [],
   "source": [
    "train, test = train_test(dataset)"
   ]
  },
  {
   "cell_type": "code",
   "execution_count": 19,
   "id": "8e98b955",
   "metadata": {
    "execution": {
     "iopub.execute_input": "2024-07-06T16:50:29.956654Z",
     "iopub.status.busy": "2024-07-06T16:50:29.956337Z",
     "iopub.status.idle": "2024-07-06T16:50:29.976123Z",
     "shell.execute_reply": "2024-07-06T16:50:29.975296Z"
    },
    "papermill": {
     "duration": 0.034994,
     "end_time": "2024-07-06T16:50:29.978092",
     "exception": false,
     "start_time": "2024-07-06T16:50:29.943098",
     "status": "completed"
    },
    "tags": []
   },
   "outputs": [
    {
     "data": {
      "text/html": [
       "<div>\n",
       "<style scoped>\n",
       "    .dataframe tbody tr th:only-of-type {\n",
       "        vertical-align: middle;\n",
       "    }\n",
       "\n",
       "    .dataframe tbody tr th {\n",
       "        vertical-align: top;\n",
       "    }\n",
       "\n",
       "    .dataframe thead th {\n",
       "        text-align: right;\n",
       "    }\n",
       "</style>\n",
       "<table border=\"1\" class=\"dataframe\">\n",
       "  <thead>\n",
       "    <tr style=\"text-align: right;\">\n",
       "      <th></th>\n",
       "      <th>sents_eng</th>\n",
       "      <th>sents_vie</th>\n",
       "      <th>clean_eng</th>\n",
       "      <th>clean_vie</th>\n",
       "      <th>eng_nums</th>\n",
       "      <th>vie_nums</th>\n",
       "    </tr>\n",
       "  </thead>\n",
       "  <tbody>\n",
       "    <tr>\n",
       "      <th>0</th>\n",
       "      <td>He was never to see his homeland again</td>\n",
       "      <td>anh không bao giờ được gặp lại quê hương</td>\n",
       "      <td>[&lt;sos&gt;, he, was, never, to, see, his, homeland...</td>\n",
       "      <td>[&lt;sos&gt;, anh, không, bao, giờ, được, gặp, lại, ...</td>\n",
       "      <td>[2, 11, 15, 97, 5, 83, 24, 8738, 186, 3]</td>\n",
       "      <td>[2, 11, 6, 71, 49, 41, 103, 62, 1424, 1461, 3]</td>\n",
       "    </tr>\n",
       "    <tr>\n",
       "      <th>1</th>\n",
       "      <td>She had a basket full of apples</td>\n",
       "      <td>cô ấy có một giỏ đầy táo</td>\n",
       "      <td>[&lt;sos&gt;, she, had, a, basket, full, of, apples,...</td>\n",
       "      <td>[&lt;sos&gt;, cô, ấy, có, một, giỏ, đầy, táo, &lt;eos&gt;]</td>\n",
       "      <td>[2, 35, 48, 9, 2274, 644, 13, 1085, 3]</td>\n",
       "      <td>[2, 26, 14, 8, 9, 1736, 594, 701, 3]</td>\n",
       "    </tr>\n",
       "    <tr>\n",
       "      <th>2</th>\n",
       "      <td>There was a larger crowd at the concert than w...</td>\n",
       "      <td>có một đám đông lớn hơn tại buổi hòa nhạc hơn ...</td>\n",
       "      <td>[&lt;sos&gt;, there, was, a, larger, crowd, at, the,...</td>\n",
       "      <td>[&lt;sos&gt;, có, một, đám, đông, lớn, hơn, tại, buổ...</td>\n",
       "      <td>[2, 56, 15, 9, 1919, 1093, 37, 4, 793, 103, 23...</td>\n",
       "      <td>[2, 8, 9, 649, 551, 160, 66, 80, 363, 501, 355...</td>\n",
       "    </tr>\n",
       "    <tr>\n",
       "      <th>3</th>\n",
       "      <td>Windy this morning, isn't it?</td>\n",
       "      <td>sáng nay có gió không?</td>\n",
       "      <td>[&lt;sos&gt;, windy, this, morning, isnt, it, &lt;eos&gt;]</td>\n",
       "      <td>[&lt;sos&gt;, sáng, nay, có, gió, không, &lt;eos&gt;]</td>\n",
       "      <td>[2, 3844, 19, 237, 150, 16, 3]</td>\n",
       "      <td>[2, 210, 112, 8, 1032, 6, 3]</td>\n",
       "    </tr>\n",
       "    <tr>\n",
       "      <th>4</th>\n",
       "      <td>I worked hard for this money.</td>\n",
       "      <td>tôi đã làm việc chăm chỉ vì số tiền này</td>\n",
       "      <td>[&lt;sos&gt;, i, worked, hard, for, this, money, &lt;eos&gt;]</td>\n",
       "      <td>[&lt;sos&gt;, tôi, đã, làm, việc, chăm, chỉ, vì, số,...</td>\n",
       "      <td>[2, 6, 619, 219, 20, 19, 116, 3]</td>\n",
       "      <td>[2, 4, 10, 18, 59, 324, 75, 104, 118, 115, 30, 3]</td>\n",
       "    </tr>\n",
       "  </tbody>\n",
       "</table>\n",
       "</div>"
      ],
      "text/plain": [
       "                                           sents_eng  \\\n",
       "0             He was never to see his homeland again   \n",
       "1                    She had a basket full of apples   \n",
       "2  There was a larger crowd at the concert than w...   \n",
       "3                      Windy this morning, isn't it?   \n",
       "4                      I worked hard for this money.   \n",
       "\n",
       "                                           sents_vie  \\\n",
       "0           anh không bao giờ được gặp lại quê hương   \n",
       "1                           cô ấy có một giỏ đầy táo   \n",
       "2  có một đám đông lớn hơn tại buổi hòa nhạc hơn ...   \n",
       "3                             sáng nay có gió không?   \n",
       "4            tôi đã làm việc chăm chỉ vì số tiền này   \n",
       "\n",
       "                                           clean_eng  \\\n",
       "0  [<sos>, he, was, never, to, see, his, homeland...   \n",
       "1  [<sos>, she, had, a, basket, full, of, apples,...   \n",
       "2  [<sos>, there, was, a, larger, crowd, at, the,...   \n",
       "3     [<sos>, windy, this, morning, isnt, it, <eos>]   \n",
       "4  [<sos>, i, worked, hard, for, this, money, <eos>]   \n",
       "\n",
       "                                           clean_vie  \\\n",
       "0  [<sos>, anh, không, bao, giờ, được, gặp, lại, ...   \n",
       "1     [<sos>, cô, ấy, có, một, giỏ, đầy, táo, <eos>]   \n",
       "2  [<sos>, có, một, đám, đông, lớn, hơn, tại, buổ...   \n",
       "3          [<sos>, sáng, nay, có, gió, không, <eos>]   \n",
       "4  [<sos>, tôi, đã, làm, việc, chăm, chỉ, vì, số,...   \n",
       "\n",
       "                                            eng_nums  \\\n",
       "0           [2, 11, 15, 97, 5, 83, 24, 8738, 186, 3]   \n",
       "1             [2, 35, 48, 9, 2274, 644, 13, 1085, 3]   \n",
       "2  [2, 56, 15, 9, 1919, 1093, 37, 4, 793, 103, 23...   \n",
       "3                     [2, 3844, 19, 237, 150, 16, 3]   \n",
       "4                   [2, 6, 619, 219, 20, 19, 116, 3]   \n",
       "\n",
       "                                            vie_nums  \n",
       "0     [2, 11, 6, 71, 49, 41, 103, 62, 1424, 1461, 3]  \n",
       "1               [2, 26, 14, 8, 9, 1736, 594, 701, 3]  \n",
       "2  [2, 8, 9, 649, 551, 160, 66, 80, 363, 501, 355...  \n",
       "3                       [2, 210, 112, 8, 1032, 6, 3]  \n",
       "4  [2, 4, 10, 18, 59, 324, 75, 104, 118, 115, 30, 3]  "
      ]
     },
     "execution_count": 19,
     "metadata": {},
     "output_type": "execute_result"
    }
   ],
   "source": [
    "train.head()"
   ]
  },
  {
   "cell_type": "code",
   "execution_count": 20,
   "id": "cc7ff7d0",
   "metadata": {
    "execution": {
     "iopub.execute_input": "2024-07-06T16:50:30.004658Z",
     "iopub.status.busy": "2024-07-06T16:50:30.003854Z",
     "iopub.status.idle": "2024-07-06T16:50:30.008307Z",
     "shell.execute_reply": "2024-07-06T16:50:30.007454Z"
    },
    "papermill": {
     "duration": 0.019508,
     "end_time": "2024-07-06T16:50:30.010240",
     "exception": false,
     "start_time": "2024-07-06T16:50:29.990732",
     "status": "completed"
    },
    "tags": []
   },
   "outputs": [],
   "source": [
    "pad_index = eng_vocab[pad_token]\n",
    "unk_index = eng_vocab[unk_token]"
   ]
  },
  {
   "cell_type": "code",
   "execution_count": 21,
   "id": "ca6d4b43",
   "metadata": {
    "execution": {
     "iopub.execute_input": "2024-07-06T16:50:30.036309Z",
     "iopub.status.busy": "2024-07-06T16:50:30.035987Z",
     "iopub.status.idle": "2024-07-06T16:50:30.039915Z",
     "shell.execute_reply": "2024-07-06T16:50:30.039199Z"
    },
    "papermill": {
     "duration": 0.019109,
     "end_time": "2024-07-06T16:50:30.041844",
     "exception": false,
     "start_time": "2024-07-06T16:50:30.022735",
     "status": "completed"
    },
    "tags": []
   },
   "outputs": [],
   "source": [
    "vie_vocab.set_default_index(unk_index)\n",
    "eng_vocab.set_default_index(unk_index)"
   ]
  },
  {
   "cell_type": "code",
   "execution_count": 22,
   "id": "52f8173c",
   "metadata": {
    "execution": {
     "iopub.execute_input": "2024-07-06T16:50:30.068343Z",
     "iopub.status.busy": "2024-07-06T16:50:30.067614Z",
     "iopub.status.idle": "2024-07-06T16:50:30.073401Z",
     "shell.execute_reply": "2024-07-06T16:50:30.072564Z"
    },
    "papermill": {
     "duration": 0.020902,
     "end_time": "2024-07-06T16:50:30.075358",
     "exception": false,
     "start_time": "2024-07-06T16:50:30.054456",
     "status": "completed"
    },
    "tags": []
   },
   "outputs": [],
   "source": [
    "class CustomDataset(Dataset):\n",
    "    def __init__(self, data):\n",
    "        self.data = data\n",
    "    \n",
    "    def __len__(self):\n",
    "        return len(self.data)\n",
    "    \n",
    "    def __getitem__(self, idx):\n",
    "        eng_nums, viet_nums = torch.tensor(self.data.iloc[idx]['eng_nums']), torch.tensor(self.data.iloc[idx]['vie_nums'])\n",
    "        return eng_nums, viet_nums\n"
   ]
  },
  {
   "cell_type": "code",
   "execution_count": 23,
   "id": "fe29a04f",
   "metadata": {
    "execution": {
     "iopub.execute_input": "2024-07-06T16:50:30.101102Z",
     "iopub.status.busy": "2024-07-06T16:50:30.100831Z",
     "iopub.status.idle": "2024-07-06T16:50:30.104780Z",
     "shell.execute_reply": "2024-07-06T16:50:30.103789Z"
    },
    "papermill": {
     "duration": 0.019018,
     "end_time": "2024-07-06T16:50:30.106657",
     "exception": false,
     "start_time": "2024-07-06T16:50:30.087639",
     "status": "completed"
    },
    "tags": []
   },
   "outputs": [],
   "source": [
    "train_dataset = CustomDataset(train)\n",
    "test_dataset = CustomDataset(test)"
   ]
  },
  {
   "cell_type": "code",
   "execution_count": 24,
   "id": "89a69bb1",
   "metadata": {
    "execution": {
     "iopub.execute_input": "2024-07-06T16:50:30.132700Z",
     "iopub.status.busy": "2024-07-06T16:50:30.132449Z",
     "iopub.status.idle": "2024-07-06T16:50:30.168848Z",
     "shell.execute_reply": "2024-07-06T16:50:30.168049Z"
    },
    "papermill": {
     "duration": 0.051668,
     "end_time": "2024-07-06T16:50:30.170751",
     "exception": false,
     "start_time": "2024-07-06T16:50:30.119083",
     "status": "completed"
    },
    "tags": []
   },
   "outputs": [
    {
     "data": {
      "text/plain": [
       "((tensor([   2,   11,   15,   97,    5,   83,   24, 8738,  186,    3]),\n",
       "  tensor([   2,   11,    6,   71,   49,   41,  103,   62, 1424, 1461,    3])),\n",
       " (tensor([  2,   6, 282,  22, 737,   4, 173, 123,   3]),\n",
       "  tensor([  2,   4,  10, 186, 201, 300,  12,   4,  45,  64, 127,   3])))"
      ]
     },
     "execution_count": 24,
     "metadata": {},
     "output_type": "execute_result"
    }
   ],
   "source": [
    "train_dataset[0], test_dataset[0]"
   ]
  },
  {
   "cell_type": "code",
   "execution_count": 25,
   "id": "dc7d5c31",
   "metadata": {
    "execution": {
     "iopub.execute_input": "2024-07-06T16:50:30.196918Z",
     "iopub.status.busy": "2024-07-06T16:50:30.196648Z",
     "iopub.status.idle": "2024-07-06T16:50:30.200418Z",
     "shell.execute_reply": "2024-07-06T16:50:30.199657Z"
    },
    "papermill": {
     "duration": 0.018995,
     "end_time": "2024-07-06T16:50:30.202332",
     "exception": false,
     "start_time": "2024-07-06T16:50:30.183337",
     "status": "completed"
    },
    "tags": []
   },
   "outputs": [],
   "source": [
    "batch_size = 512\n",
    "num_workers = 4"
   ]
  },
  {
   "cell_type": "code",
   "execution_count": 26,
   "id": "c2b22478",
   "metadata": {
    "execution": {
     "iopub.execute_input": "2024-07-06T16:50:30.271408Z",
     "iopub.status.busy": "2024-07-06T16:50:30.271032Z",
     "iopub.status.idle": "2024-07-06T16:50:30.276436Z",
     "shell.execute_reply": "2024-07-06T16:50:30.275554Z"
    },
    "papermill": {
     "duration": 0.063548,
     "end_time": "2024-07-06T16:50:30.278341",
     "exception": false,
     "start_time": "2024-07-06T16:50:30.214793",
     "status": "completed"
    },
    "tags": []
   },
   "outputs": [],
   "source": [
    "def collate_fn(batch):\n",
    "    eng_numerical = [item[0] for item in batch]\n",
    "    vie_numerical = [item[1] for item in batch]\n",
    "    \n",
    "    eng_numerical = nn.utils.rnn.pad_sequence(eng_numerical, padding_value=pad_index)\n",
    "    vie_numerical = nn.utils.rnn.pad_sequence(vie_numerical, padding_value=pad_index)\n",
    "    \n",
    "    return eng_numerical, vie_numerical"
   ]
  },
  {
   "cell_type": "code",
   "execution_count": 27,
   "id": "35994028",
   "metadata": {
    "execution": {
     "iopub.execute_input": "2024-07-06T16:50:30.305133Z",
     "iopub.status.busy": "2024-07-06T16:50:30.304840Z",
     "iopub.status.idle": "2024-07-06T16:50:30.309874Z",
     "shell.execute_reply": "2024-07-06T16:50:30.309043Z"
    },
    "papermill": {
     "duration": 0.020631,
     "end_time": "2024-07-06T16:50:30.311696",
     "exception": false,
     "start_time": "2024-07-06T16:50:30.291065",
     "status": "completed"
    },
    "tags": []
   },
   "outputs": [],
   "source": [
    "train_loader = DataLoader(train_dataset, batch_size=batch_size, num_workers=num_workers, collate_fn= collate_fn, shuffle=True)\n",
    "test_loader = DataLoader(test_dataset, batch_size=batch_size, num_workers=num_workers,collate_fn=collate_fn, shuffle=False)"
   ]
  },
  {
   "cell_type": "code",
   "execution_count": 88,
   "id": "3ae53670",
   "metadata": {
    "execution": {
     "iopub.execute_input": "2024-07-06T16:50:30.374293Z",
     "iopub.status.busy": "2024-07-06T16:50:30.373609Z",
     "iopub.status.idle": "2024-07-06T16:50:30.378930Z",
     "shell.execute_reply": "2024-07-06T16:50:30.378098Z"
    },
    "papermill": {
     "duration": 0.020638,
     "end_time": "2024-07-06T16:50:30.380794",
     "exception": false,
     "start_time": "2024-07-06T16:50:30.360156",
     "status": "completed"
    },
    "tags": []
   },
   "outputs": [],
   "source": [
    "def generate_square_subsequent_mask(sz):\n",
    "    mask = (torch.triu(torch.ones((sz, sz), device=device)) == 1).transpose(0, 1)\n",
    "    mask = mask.float().masked_fill(mask == 0, float('-inf')).masked_fill(mask == 1, float(0.0))\n",
    "    return mask\n",
    "\n",
    "\n",
    "def create_mask(src, tgt):\n",
    "    src_seq_len = src.shape[0]\n",
    "    tgt_seq_len = tgt.shape[0]\n",
    "\n",
    "    tgt_mask = generate_square_subsequent_mask(tgt_seq_len)\n",
    "    src_mask = torch.zeros((src_seq_len, src_seq_len),device=device).type(torch.bool)\n",
    "\n",
    "    src_padding_mask = (src == pad_index).transpose(0, 1)\n",
    "    tgt_padding_mask = (tgt == pad_index).transpose(0, 1)\n",
    "    return src_mask, tgt_mask, src_padding_mask, tgt_padding_mask"
   ]
  },
  {
   "cell_type": "code",
   "execution_count": 161,
   "id": "59d5a7a2",
   "metadata": {
    "execution": {
     "iopub.execute_input": "2024-07-06T16:50:30.477055Z",
     "iopub.status.busy": "2024-07-06T16:50:30.476516Z",
     "iopub.status.idle": "2024-07-06T16:50:31.101231Z",
     "shell.execute_reply": "2024-07-06T16:50:31.100224Z"
    },
    "papermill": {
     "duration": 0.640509,
     "end_time": "2024-07-06T16:50:31.103609",
     "exception": false,
     "start_time": "2024-07-06T16:50:30.463100",
     "status": "completed"
    },
    "tags": []
   },
   "outputs": [
    {
     "name": "stderr",
     "output_type": "stream",
     "text": [
      "c:\\Users\\user\\AppData\\Local\\Programs\\Python\\Python311\\Lib\\site-packages\\torch\\nn\\modules\\transformer.py:306: UserWarning: enable_nested_tensor is True, but self.use_nested_tensor is False because encoder_layer.self_attn.batch_first was not True(use batch_first for better inference performance)\n",
      "  warnings.warn(f\"enable_nested_tensor is True, but self.use_nested_tensor is False because {why_not_sparsity_fast_path}\")\n"
     ]
    }
   ],
   "source": [
    "torch.manual_seed(0)\n",
    "\n",
    "SRC_VOCAB_SIZE = len(eng_vocab)\n",
    "TGT_VOCAB_SIZE = len(vie_vocab)\n",
    "EMB_SIZE = 512\n",
    "NHEAD = 8\n",
    "FFN_HID_DIM = 512\n",
    "BATCH_SIZE = 128\n",
    "NUM_ENCODER_LAYERS = 3\n",
    "NUM_DECODER_LAYERS = 3\n",
    "\n",
    "transformer = models.EngToVieTranslation(NUM_ENCODER_LAYERS, NUM_DECODER_LAYERS, EMB_SIZE,\n",
    "                                 NHEAD, SRC_VOCAB_SIZE, TGT_VOCAB_SIZE, FFN_HID_DIM)\n",
    "\n",
    "transformer = transformer.to(device)\n"
   ]
  },
  {
   "cell_type": "code",
   "execution_count": 33,
   "id": "aabf3847",
   "metadata": {
    "execution": {
     "iopub.execute_input": "2024-07-06T16:50:31.132626Z",
     "iopub.status.busy": "2024-07-06T16:50:31.131881Z",
     "iopub.status.idle": "2024-07-06T16:50:31.139686Z",
     "shell.execute_reply": "2024-07-06T16:50:31.138811Z"
    },
    "papermill": {
     "duration": 0.02416,
     "end_time": "2024-07-06T16:50:31.141610",
     "exception": false,
     "start_time": "2024-07-06T16:50:31.117450",
     "status": "completed"
    },
    "tags": []
   },
   "outputs": [],
   "source": [
    "def train_fn(model, data_loader, criterion, optimizer, device):\n",
    "    model.train()\n",
    "    total_loss = 0\n",
    "    for question, answer in data_loader:\n",
    "        question = question.to(device)\n",
    "        answer = answer.to(device)\n",
    "        \n",
    "        answer_in = answer[:-1, :]\n",
    "        \n",
    "        src_mask, tgt_mask, src_padding_mask, tgt_padding_mask = create_mask(question, answer_in)\n",
    "                \n",
    "        \n",
    "        output = model(question, answer_in, src_mask, tgt_mask, src_padding_mask, tgt_padding_mask).to(device)\n",
    "        \n",
    "        optimizer.zero_grad()\n",
    "        \n",
    "        answer_out = answer[1:, :]\n",
    "\n",
    "        output = output.view(-1, output.size(-1))\n",
    "        answer_out = answer_out.view(-1)\n",
    "        \n",
    "        loss = criterion(output, answer_out)\n",
    "        \n",
    "        loss.backward()\n",
    "        \n",
    "        optimizer.step()\n",
    "        \n",
    "        total_loss += loss.item()\n",
    "        \n",
    "    return total_loss / len(data_loader)"
   ]
  },
  {
   "cell_type": "code",
   "execution_count": 34,
   "id": "b929224d",
   "metadata": {
    "execution": {
     "iopub.execute_input": "2024-07-06T16:50:31.168696Z",
     "iopub.status.busy": "2024-07-06T16:50:31.167975Z",
     "iopub.status.idle": "2024-07-06T16:50:31.175166Z",
     "shell.execute_reply": "2024-07-06T16:50:31.174304Z"
    },
    "papermill": {
     "duration": 0.022821,
     "end_time": "2024-07-06T16:50:31.177237",
     "exception": false,
     "start_time": "2024-07-06T16:50:31.154416",
     "status": "completed"
    },
    "tags": []
   },
   "outputs": [],
   "source": [
    "def eval_fn(model, data_loader, criterion, device):\n",
    "    model.eval()\n",
    "    total_loss = 0\n",
    "    with torch.no_grad():\n",
    "        for question, answer in data_loader:\n",
    "            question = question.to(device)\n",
    "            answer = answer.to(device)\n",
    "\n",
    "            answer_in = answer[:-1, :]\n",
    "\n",
    "            src_mask, tgt_mask, src_padding_mask, tgt_padding_mask = create_mask(question, answer_in)\n",
    "\n",
    "            output = model(question, answer_in, src_mask, tgt_mask, src_padding_mask, tgt_padding_mask).to(device)\n",
    "\n",
    "            answer_out = answer[1:, :]\n",
    "\n",
    "            output = output.view(-1, output.size(-1))\n",
    "            answer_out = answer_out.view(-1)\n",
    "\n",
    "            loss = criterion(output, answer_out)\n",
    "\n",
    "            total_loss += loss.item()\n",
    "        \n",
    "    return total_loss / len(data_loader)"
   ]
  },
  {
   "cell_type": "code",
   "execution_count": 35,
   "id": "2a2ee282",
   "metadata": {
    "execution": {
     "iopub.execute_input": "2024-07-06T16:50:31.203694Z",
     "iopub.status.busy": "2024-07-06T16:50:31.203428Z",
     "iopub.status.idle": "2024-07-06T16:50:31.208953Z",
     "shell.execute_reply": "2024-07-06T16:50:31.208107Z"
    },
    "papermill": {
     "duration": 0.020895,
     "end_time": "2024-07-06T16:50:31.210744",
     "exception": false,
     "start_time": "2024-07-06T16:50:31.189849",
     "status": "completed"
    },
    "tags": []
   },
   "outputs": [],
   "source": [
    "epochs = 100\n",
    "loss_fn = torch.nn.CrossEntropyLoss(ignore_index=pad_index)\n",
    "optimizer = torch.optim.Adam(transformer.parameters(), lr=0.0001)"
   ]
  },
  {
   "cell_type": "code",
   "execution_count": 36,
   "id": "f829e396",
   "metadata": {
    "execution": {
     "iopub.execute_input": "2024-07-06T16:50:31.237303Z",
     "iopub.status.busy": "2024-07-06T16:50:31.237028Z",
     "iopub.status.idle": "2024-07-06T20:16:46.668453Z",
     "shell.execute_reply": "2024-07-06T20:16:46.667157Z"
    },
    "papermill": {
     "duration": 12375.447083,
     "end_time": "2024-07-06T20:16:46.670517",
     "exception": false,
     "start_time": "2024-07-06T16:50:31.223434",
     "status": "completed"
    },
    "tags": []
   },
   "outputs": [
    {
     "name": "stderr",
     "output_type": "stream",
     "text": [
      "  0%|          | 0/100 [00:00<?, ?it/s]/opt/conda/lib/python3.10/site-packages/torch/nn/functional.py:5076: UserWarning: Support for mismatched key_padding_mask and attn_mask is deprecated. Use same type for both instead.\n",
      "  warnings.warn(\n",
      "  1%|          | 1/100 [02:04<3:24:49, 124.13s/it]"
     ]
    },
    {
     "name": "stdout",
     "output_type": "stream",
     "text": [
      "Epoch: 0, Train Loss: 4.677931672364623, Test Loss: 3.493857219219208\n"
     ]
    },
    {
     "name": "stderr",
     "output_type": "stream",
     "text": [
      "  2%|▏         | 2/100 [04:08<3:23:03, 124.32s/it]"
     ]
    },
    {
     "name": "stdout",
     "output_type": "stream",
     "text": [
      "Epoch: 1, Train Loss: 3.228267881139439, Test Loss: 2.7307542824745177\n"
     ]
    },
    {
     "name": "stderr",
     "output_type": "stream",
     "text": [
      "  3%|▎         | 3/100 [06:12<3:20:41, 124.14s/it]"
     ]
    },
    {
     "name": "stdout",
     "output_type": "stream",
     "text": [
      "Epoch: 2, Train Loss: 2.673386968559955, Test Loss: 2.3250432920455935\n"
     ]
    },
    {
     "name": "stderr",
     "output_type": "stream",
     "text": [
      "  4%|▍         | 4/100 [08:16<3:18:13, 123.89s/it]"
     ]
    },
    {
     "name": "stdout",
     "output_type": "stream",
     "text": [
      "Epoch: 3, Train Loss: 2.3378920051919754, Test Loss: 2.0714025712013244\n"
     ]
    },
    {
     "name": "stderr",
     "output_type": "stream",
     "text": [
      "  5%|▌         | 5/100 [10:20<3:16:20, 124.01s/it]"
     ]
    },
    {
     "name": "stdout",
     "output_type": "stream",
     "text": [
      "Epoch: 4, Train Loss: 2.097836846083253, Test Loss: 1.8880160224437714\n"
     ]
    },
    {
     "name": "stderr",
     "output_type": "stream",
     "text": [
      "  6%|▌         | 6/100 [12:24<3:14:17, 124.02s/it]"
     ]
    },
    {
     "name": "stdout",
     "output_type": "stream",
     "text": [
      "Epoch: 5, Train Loss: 1.918555087180593, Test Loss: 1.7399869751930237\n"
     ]
    },
    {
     "name": "stderr",
     "output_type": "stream",
     "text": [
      "  7%|▋         | 7/100 [14:28<3:12:29, 124.18s/it]"
     ]
    },
    {
     "name": "stdout",
     "output_type": "stream",
     "text": [
      "Epoch: 6, Train Loss: 1.769673750628179, Test Loss: 1.620446035861969\n"
     ]
    },
    {
     "name": "stderr",
     "output_type": "stream",
     "text": [
      "  8%|▊         | 8/100 [16:32<3:10:16, 124.10s/it]"
     ]
    },
    {
     "name": "stdout",
     "output_type": "stream",
     "text": [
      "Epoch: 7, Train Loss: 1.650155202827262, Test Loss: 1.5363389837741852\n"
     ]
    },
    {
     "name": "stderr",
     "output_type": "stream",
     "text": [
      "  9%|▉         | 9/100 [18:36<3:08:11, 124.08s/it]"
     ]
    },
    {
     "name": "stdout",
     "output_type": "stream",
     "text": [
      "Epoch: 8, Train Loss: 1.5476742680348343, Test Loss: 1.4566003918647765\n"
     ]
    },
    {
     "name": "stderr",
     "output_type": "stream",
     "text": [
      " 10%|█         | 10/100 [20:41<3:06:19, 124.22s/it]"
     ]
    },
    {
     "name": "stdout",
     "output_type": "stream",
     "text": [
      "Epoch: 9, Train Loss: 1.4581737254732219, Test Loss: 1.3965217065811157\n"
     ]
    },
    {
     "name": "stderr",
     "output_type": "stream",
     "text": [
      " 11%|█         | 11/100 [22:45<3:04:04, 124.10s/it]"
     ]
    },
    {
     "name": "stdout",
     "output_type": "stream",
     "text": [
      "Epoch: 10, Train Loss: 1.3834167272601294, Test Loss: 1.336302136182785\n"
     ]
    },
    {
     "name": "stderr",
     "output_type": "stream",
     "text": [
      " 12%|█▏        | 12/100 [24:49<3:02:01, 124.11s/it]"
     ]
    },
    {
     "name": "stdout",
     "output_type": "stream",
     "text": [
      "Epoch: 11, Train Loss: 1.3147532457682356, Test Loss: 1.294531512260437\n"
     ]
    },
    {
     "name": "stderr",
     "output_type": "stream",
     "text": [
      " 13%|█▎        | 13/100 [26:53<2:59:53, 124.07s/it]"
     ]
    },
    {
     "name": "stdout",
     "output_type": "stream",
     "text": [
      "Epoch: 12, Train Loss: 1.2529109246167704, Test Loss: 1.2484520399570465\n"
     ]
    },
    {
     "name": "stderr",
     "output_type": "stream",
     "text": [
      " 14%|█▍        | 14/100 [28:57<2:57:55, 124.13s/it]"
     ]
    },
    {
     "name": "stdout",
     "output_type": "stream",
     "text": [
      "Epoch: 13, Train Loss: 1.1964951678736127, Test Loss: 1.2183717107772827\n"
     ]
    },
    {
     "name": "stderr",
     "output_type": "stream",
     "text": [
      " 15%|█▌        | 15/100 [31:02<2:56:03, 124.27s/it]"
     ]
    },
    {
     "name": "stdout",
     "output_type": "stream",
     "text": [
      "Epoch: 14, Train Loss: 1.1460645579213473, Test Loss: 1.1910168147087097\n"
     ]
    },
    {
     "name": "stderr",
     "output_type": "stream",
     "text": [
      " 16%|█▌        | 16/100 [33:06<2:53:54, 124.22s/it]"
     ]
    },
    {
     "name": "stdout",
     "output_type": "stream",
     "text": [
      "Epoch: 15, Train Loss: 1.0984285226718864, Test Loss: 1.1582943511009216\n"
     ]
    },
    {
     "name": "stderr",
     "output_type": "stream",
     "text": [
      " 17%|█▋        | 17/100 [35:09<2:51:31, 124.00s/it]"
     ]
    },
    {
     "name": "stdout",
     "output_type": "stream",
     "text": [
      "Epoch: 16, Train Loss: 1.0584338632360775, Test Loss: 1.1316233187913896\n"
     ]
    },
    {
     "name": "stderr",
     "output_type": "stream",
     "text": [
      " 18%|█▊        | 18/100 [37:13<2:49:32, 124.05s/it]"
     ]
    },
    {
     "name": "stdout",
     "output_type": "stream",
     "text": [
      "Epoch: 17, Train Loss: 1.0185162210883807, Test Loss: 1.1111142444610596\n"
     ]
    },
    {
     "name": "stderr",
     "output_type": "stream",
     "text": [
      " 19%|█▉        | 19/100 [39:17<2:47:21, 123.97s/it]"
     ]
    },
    {
     "name": "stdout",
     "output_type": "stream",
     "text": [
      "Epoch: 18, Train Loss: 0.9810378449646073, Test Loss: 1.0972482722997665\n"
     ]
    },
    {
     "name": "stderr",
     "output_type": "stream",
     "text": [
      " 20%|██        | 20/100 [41:21<2:45:15, 123.94s/it]"
     ]
    },
    {
     "name": "stdout",
     "output_type": "stream",
     "text": [
      "Epoch: 19, Train Loss: 0.9477852016837154, Test Loss: 1.077962371110916\n"
     ]
    },
    {
     "name": "stderr",
     "output_type": "stream",
     "text": [
      " 21%|██        | 21/100 [43:25<2:43:04, 123.86s/it]"
     ]
    },
    {
     "name": "stdout",
     "output_type": "stream",
     "text": [
      "Epoch: 20, Train Loss: 0.9153992076914514, Test Loss: 1.0600369477272034\n"
     ]
    },
    {
     "name": "stderr",
     "output_type": "stream",
     "text": [
      " 22%|██▏       | 22/100 [45:29<2:41:15, 124.05s/it]"
     ]
    },
    {
     "name": "stdout",
     "output_type": "stream",
     "text": [
      "Epoch: 21, Train Loss: 0.8828686508701076, Test Loss: 1.0426894265413285\n"
     ]
    },
    {
     "name": "stderr",
     "output_type": "stream",
     "text": [
      " 23%|██▎       | 23/100 [47:33<2:39:10, 124.04s/it]"
     ]
    },
    {
     "name": "stdout",
     "output_type": "stream",
     "text": [
      "Epoch: 22, Train Loss: 0.85713005799744, Test Loss: 1.0302476394176483\n"
     ]
    },
    {
     "name": "stderr",
     "output_type": "stream",
     "text": [
      " 24%|██▍       | 24/100 [49:38<2:37:21, 124.23s/it]"
     ]
    },
    {
     "name": "stdout",
     "output_type": "stream",
     "text": [
      "Epoch: 23, Train Loss: 0.8286785332102272, Test Loss: 1.02208635866642\n"
     ]
    },
    {
     "name": "stderr",
     "output_type": "stream",
     "text": [
      " 25%|██▌       | 25/100 [51:42<2:35:07, 124.10s/it]"
     ]
    },
    {
     "name": "stdout",
     "output_type": "stream",
     "text": [
      "Epoch: 24, Train Loss: 0.8042395871188772, Test Loss: 1.0128840279579163\n"
     ]
    },
    {
     "name": "stderr",
     "output_type": "stream",
     "text": [
      " 26%|██▌       | 26/100 [53:46<2:33:06, 124.14s/it]"
     ]
    },
    {
     "name": "stdout",
     "output_type": "stream",
     "text": [
      "Epoch: 25, Train Loss: 0.783319176441461, Test Loss: 1.0048552775382995\n"
     ]
    },
    {
     "name": "stderr",
     "output_type": "stream",
     "text": [
      " 27%|██▋       | 27/100 [55:50<2:30:58, 124.09s/it]"
     ]
    },
    {
     "name": "stdout",
     "output_type": "stream",
     "text": [
      "Epoch: 26, Train Loss: 0.7601006962546152, Test Loss: 1.000624617934227\n"
     ]
    },
    {
     "name": "stderr",
     "output_type": "stream",
     "text": [
      " 28%|██▊       | 28/100 [57:54<2:28:53, 124.07s/it]"
     ]
    },
    {
     "name": "stdout",
     "output_type": "stream",
     "text": [
      "Epoch: 27, Train Loss: 0.7399951084774343, Test Loss: 0.9866133576631546\n"
     ]
    },
    {
     "name": "stderr",
     "output_type": "stream",
     "text": [
      " 29%|██▉       | 29/100 [59:58<2:26:42, 123.97s/it]"
     ]
    },
    {
     "name": "stdout",
     "output_type": "stream",
     "text": [
      "Epoch: 28, Train Loss: 0.7195035767315621, Test Loss: 0.9877449071407318\n"
     ]
    },
    {
     "name": "stderr",
     "output_type": "stream",
     "text": [
      " 30%|███       | 30/100 [1:02:02<2:24:44, 124.06s/it]"
     ]
    },
    {
     "name": "stdout",
     "output_type": "stream",
     "text": [
      "Epoch: 29, Train Loss: 0.6962758686824061, Test Loss: 0.9715693038702011\n"
     ]
    },
    {
     "name": "stderr",
     "output_type": "stream",
     "text": [
      " 31%|███       | 31/100 [1:04:06<2:22:40, 124.06s/it]"
     ]
    },
    {
     "name": "stdout",
     "output_type": "stream",
     "text": [
      "Epoch: 30, Train Loss: 0.6807907024520127, Test Loss: 0.9668121755123138\n"
     ]
    },
    {
     "name": "stderr",
     "output_type": "stream",
     "text": [
      " 32%|███▏      | 32/100 [1:06:10<2:20:44, 124.18s/it]"
     ]
    },
    {
     "name": "stdout",
     "output_type": "stream",
     "text": [
      "Epoch: 31, Train Loss: 0.6656682501785719, Test Loss: 0.962508682012558\n"
     ]
    },
    {
     "name": "stderr",
     "output_type": "stream",
     "text": [
      " 33%|███▎      | 33/100 [1:08:15<2:18:50, 124.33s/it]"
     ]
    },
    {
     "name": "stdout",
     "output_type": "stream",
     "text": [
      "Epoch: 32, Train Loss: 0.6462322254875796, Test Loss: 0.9563987374305725\n"
     ]
    },
    {
     "name": "stderr",
     "output_type": "stream",
     "text": [
      " 34%|███▍      | 34/100 [1:10:19<2:16:36, 124.19s/it]"
     ]
    },
    {
     "name": "stdout",
     "output_type": "stream",
     "text": [
      "Epoch: 33, Train Loss: 0.6314674830017377, Test Loss: 0.9591618025302887\n"
     ]
    },
    {
     "name": "stderr",
     "output_type": "stream",
     "text": [
      " 35%|███▌      | 35/100 [1:12:23<2:14:25, 124.08s/it]"
     ]
    },
    {
     "name": "stdout",
     "output_type": "stream",
     "text": [
      "Epoch: 34, Train Loss: 0.6175579167340868, Test Loss: 0.9501152366399765\n"
     ]
    },
    {
     "name": "stderr",
     "output_type": "stream",
     "text": [
      " 36%|███▌      | 36/100 [1:14:26<2:12:09, 123.90s/it]"
     ]
    },
    {
     "name": "stdout",
     "output_type": "stream",
     "text": [
      "Epoch: 35, Train Loss: 0.6012887529392338, Test Loss: 0.95118792116642\n"
     ]
    },
    {
     "name": "stderr",
     "output_type": "stream",
     "text": [
      " 37%|███▋      | 37/100 [1:16:30<2:09:56, 123.75s/it]"
     ]
    },
    {
     "name": "stdout",
     "output_type": "stream",
     "text": [
      "Epoch: 36, Train Loss: 0.5879362708509867, Test Loss: 0.9483805841207504\n"
     ]
    },
    {
     "name": "stderr",
     "output_type": "stream",
     "text": [
      " 38%|███▊      | 38/100 [1:18:34<2:08:01, 123.89s/it]"
     ]
    },
    {
     "name": "stdout",
     "output_type": "stream",
     "text": [
      "Epoch: 37, Train Loss: 0.5756701961833628, Test Loss: 0.9450503414869309\n"
     ]
    },
    {
     "name": "stderr",
     "output_type": "stream",
     "text": [
      " 39%|███▉      | 39/100 [1:20:37<2:05:48, 123.74s/it]"
     ]
    },
    {
     "name": "stdout",
     "output_type": "stream",
     "text": [
      "Epoch: 38, Train Loss: 0.5601198997479587, Test Loss: 0.954067011475563\n"
     ]
    },
    {
     "name": "stderr",
     "output_type": "stream",
     "text": [
      " 40%|████      | 40/100 [1:22:42<2:03:58, 123.97s/it]"
     ]
    },
    {
     "name": "stdout",
     "output_type": "stream",
     "text": [
      "Epoch: 39, Train Loss: 0.5472474593912536, Test Loss: 0.9440027260780335\n"
     ]
    },
    {
     "name": "stderr",
     "output_type": "stream",
     "text": [
      " 41%|████      | 41/100 [1:24:45<2:01:38, 123.71s/it]"
     ]
    },
    {
     "name": "stdout",
     "output_type": "stream",
     "text": [
      "Epoch: 40, Train Loss: 0.5371818200277922, Test Loss: 0.94637022793293\n"
     ]
    },
    {
     "name": "stderr",
     "output_type": "stream",
     "text": [
      " 42%|████▏     | 42/100 [1:26:49<1:59:36, 123.73s/it]"
     ]
    },
    {
     "name": "stdout",
     "output_type": "stream",
     "text": [
      "Epoch: 41, Train Loss: 0.5264197326634996, Test Loss: 0.9451385790109634\n"
     ]
    },
    {
     "name": "stderr",
     "output_type": "stream",
     "text": [
      " 43%|████▎     | 43/100 [1:28:52<1:57:29, 123.67s/it]"
     ]
    },
    {
     "name": "stdout",
     "output_type": "stream",
     "text": [
      "Epoch: 42, Train Loss: 0.5118161139626, Test Loss: 0.9389835101366043\n"
     ]
    },
    {
     "name": "stderr",
     "output_type": "stream",
     "text": [
      " 44%|████▍     | 44/100 [1:30:56<1:55:25, 123.67s/it]"
     ]
    },
    {
     "name": "stdout",
     "output_type": "stream",
     "text": [
      "Epoch: 43, Train Loss: 0.5015529167262753, Test Loss: 0.943368730545044\n"
     ]
    },
    {
     "name": "stderr",
     "output_type": "stream",
     "text": [
      " 45%|████▌     | 45/100 [1:33:00<1:53:25, 123.73s/it]"
     ]
    },
    {
     "name": "stdout",
     "output_type": "stream",
     "text": [
      "Epoch: 44, Train Loss: 0.48983719061367476, Test Loss: 0.9417859828472137\n"
     ]
    },
    {
     "name": "stderr",
     "output_type": "stream",
     "text": [
      " 46%|████▌     | 46/100 [1:35:03<1:51:13, 123.59s/it]"
     ]
    },
    {
     "name": "stdout",
     "output_type": "stream",
     "text": [
      "Epoch: 45, Train Loss: 0.4801909497485089, Test Loss: 0.9448968809843064\n"
     ]
    },
    {
     "name": "stderr",
     "output_type": "stream",
     "text": [
      " 47%|████▋     | 47/100 [1:37:07<1:49:17, 123.73s/it]"
     ]
    },
    {
     "name": "stdout",
     "output_type": "stream",
     "text": [
      "Epoch: 46, Train Loss: 0.473440744020232, Test Loss: 0.9480032598972321\n"
     ]
    },
    {
     "name": "stderr",
     "output_type": "stream",
     "text": [
      " 48%|████▊     | 48/100 [1:39:10<1:47:06, 123.58s/it]"
     ]
    },
    {
     "name": "stdout",
     "output_type": "stream",
     "text": [
      "Epoch: 47, Train Loss: 0.4631413628707579, Test Loss: 0.941313738822937\n"
     ]
    },
    {
     "name": "stderr",
     "output_type": "stream",
     "text": [
      " 49%|████▉     | 49/100 [1:41:14<1:45:04, 123.62s/it]"
     ]
    },
    {
     "name": "stdout",
     "output_type": "stream",
     "text": [
      "Epoch: 48, Train Loss: 0.45345540329739076, Test Loss: 0.9508110934495926\n"
     ]
    },
    {
     "name": "stderr",
     "output_type": "stream",
     "text": [
      " 50%|█████     | 50/100 [1:43:18<1:43:05, 123.71s/it]"
     ]
    },
    {
     "name": "stdout",
     "output_type": "stream",
     "text": [
      "Epoch: 49, Train Loss: 0.44304141589445084, Test Loss: 0.9423506021499634\n"
     ]
    },
    {
     "name": "stderr",
     "output_type": "stream",
     "text": [
      " 51%|█████     | 51/100 [1:45:21<1:40:56, 123.61s/it]"
     ]
    },
    {
     "name": "stdout",
     "output_type": "stream",
     "text": [
      "Epoch: 50, Train Loss: 0.4333682964045798, Test Loss: 0.946059240102768\n"
     ]
    },
    {
     "name": "stderr",
     "output_type": "stream",
     "text": [
      " 52%|█████▏    | 52/100 [1:47:25<1:38:54, 123.63s/it]"
     ]
    },
    {
     "name": "stdout",
     "output_type": "stream",
     "text": [
      "Epoch: 51, Train Loss: 0.4267589560705214, Test Loss: 0.9505552124977111\n"
     ]
    },
    {
     "name": "stderr",
     "output_type": "stream",
     "text": [
      " 53%|█████▎    | 53/100 [1:49:29<1:36:49, 123.61s/it]"
     ]
    },
    {
     "name": "stdout",
     "output_type": "stream",
     "text": [
      "Epoch: 52, Train Loss: 0.42244502055884603, Test Loss: 0.9459740614891052\n"
     ]
    },
    {
     "name": "stderr",
     "output_type": "stream",
     "text": [
      " 54%|█████▍    | 54/100 [1:51:32<1:34:46, 123.61s/it]"
     ]
    },
    {
     "name": "stdout",
     "output_type": "stream",
     "text": [
      "Epoch: 53, Train Loss: 0.41389340873639185, Test Loss: 0.9454494726657867\n"
     ]
    },
    {
     "name": "stderr",
     "output_type": "stream",
     "text": [
      " 55%|█████▌    | 55/100 [1:53:36<1:32:44, 123.65s/it]"
     ]
    },
    {
     "name": "stdout",
     "output_type": "stream",
     "text": [
      "Epoch: 54, Train Loss: 0.4046127058603057, Test Loss: 0.9530827015638351\n"
     ]
    },
    {
     "name": "stderr",
     "output_type": "stream",
     "text": [
      " 56%|█████▌    | 56/100 [1:55:39<1:30:34, 123.51s/it]"
     ]
    },
    {
     "name": "stdout",
     "output_type": "stream",
     "text": [
      "Epoch: 55, Train Loss: 0.3944797005934931, Test Loss: 0.9564487046003342\n"
     ]
    },
    {
     "name": "stderr",
     "output_type": "stream",
     "text": [
      " 57%|█████▋    | 57/100 [1:57:43<1:28:33, 123.56s/it]"
     ]
    },
    {
     "name": "stdout",
     "output_type": "stream",
     "text": [
      "Epoch: 56, Train Loss: 0.3891421394731531, Test Loss: 0.9576662731170654\n"
     ]
    },
    {
     "name": "stderr",
     "output_type": "stream",
     "text": [
      " 58%|█████▊    | 58/100 [1:59:46<1:26:24, 123.45s/it]"
     ]
    },
    {
     "name": "stdout",
     "output_type": "stream",
     "text": [
      "Epoch: 57, Train Loss: 0.3814548089276606, Test Loss: 0.9592425906658173\n"
     ]
    },
    {
     "name": "stderr",
     "output_type": "stream",
     "text": [
      " 59%|█████▉    | 59/100 [2:01:49<1:24:21, 123.45s/it]"
     ]
    },
    {
     "name": "stdout",
     "output_type": "stream",
     "text": [
      "Epoch: 58, Train Loss: 0.3755753675297876, Test Loss: 0.9601756268739701\n"
     ]
    },
    {
     "name": "stderr",
     "output_type": "stream",
     "text": [
      " 60%|██████    | 60/100 [2:03:53<1:22:25, 123.64s/it]"
     ]
    },
    {
     "name": "stdout",
     "output_type": "stream",
     "text": [
      "Epoch: 59, Train Loss: 0.36916793935262976, Test Loss: 0.9726923096179962\n"
     ]
    },
    {
     "name": "stderr",
     "output_type": "stream",
     "text": [
      " 61%|██████    | 61/100 [2:05:57<1:20:15, 123.49s/it]"
     ]
    },
    {
     "name": "stdout",
     "output_type": "stream",
     "text": [
      "Epoch: 60, Train Loss: 0.36313818762050804, Test Loss: 0.9620252555608749\n"
     ]
    },
    {
     "name": "stderr",
     "output_type": "stream",
     "text": [
      " 62%|██████▏   | 62/100 [2:08:00<1:18:13, 123.51s/it]"
     ]
    },
    {
     "name": "stdout",
     "output_type": "stream",
     "text": [
      "Epoch: 61, Train Loss: 0.3558013045308578, Test Loss: 0.9738362908363343\n"
     ]
    },
    {
     "name": "stderr",
     "output_type": "stream",
     "text": [
      " 63%|██████▎   | 63/100 [2:10:04<1:16:10, 123.53s/it]"
     ]
    },
    {
     "name": "stdout",
     "output_type": "stream",
     "text": [
      "Epoch: 62, Train Loss: 0.34877562769992865, Test Loss: 0.9784004616737366\n"
     ]
    },
    {
     "name": "stderr",
     "output_type": "stream",
     "text": [
      " 64%|██████▍   | 64/100 [2:12:08<1:14:13, 123.70s/it]"
     ]
    },
    {
     "name": "stdout",
     "output_type": "stream",
     "text": [
      "Epoch: 63, Train Loss: 0.34859160846801257, Test Loss: 0.9747519785165787\n"
     ]
    },
    {
     "name": "stderr",
     "output_type": "stream",
     "text": [
      " 65%|██████▌   | 65/100 [2:14:11<1:12:04, 123.55s/it]"
     ]
    },
    {
     "name": "stdout",
     "output_type": "stream",
     "text": [
      "Epoch: 64, Train Loss: 0.3406301973453119, Test Loss: 0.975865650177002\n"
     ]
    },
    {
     "name": "stderr",
     "output_type": "stream",
     "text": [
      " 66%|██████▌   | 66/100 [2:16:15<1:10:06, 123.73s/it]"
     ]
    },
    {
     "name": "stdout",
     "output_type": "stream",
     "text": [
      "Epoch: 65, Train Loss: 0.3365857940373109, Test Loss: 0.9756537634134292\n"
     ]
    },
    {
     "name": "stderr",
     "output_type": "stream",
     "text": [
      " 67%|██████▋   | 67/100 [2:18:20<1:08:08, 123.90s/it]"
     ]
    },
    {
     "name": "stdout",
     "output_type": "stream",
     "text": [
      "Epoch: 66, Train Loss: 0.32922653464516205, Test Loss: 0.9752638107538223\n"
     ]
    },
    {
     "name": "stderr",
     "output_type": "stream",
     "text": [
      " 68%|██████▊   | 68/100 [2:20:23<1:06:01, 123.79s/it]"
     ]
    },
    {
     "name": "stdout",
     "output_type": "stream",
     "text": [
      "Epoch: 67, Train Loss: 0.32614683782934545, Test Loss: 0.9912212014198303\n"
     ]
    },
    {
     "name": "stderr",
     "output_type": "stream",
     "text": [
      " 69%|██████▉   | 69/100 [2:22:26<1:03:50, 123.58s/it]"
     ]
    },
    {
     "name": "stdout",
     "output_type": "stream",
     "text": [
      "Epoch: 68, Train Loss: 0.3168336930286944, Test Loss: 0.9839317178726197\n"
     ]
    },
    {
     "name": "stderr",
     "output_type": "stream",
     "text": [
      " 70%|███████   | 70/100 [2:24:30<1:01:46, 123.54s/it]"
     ]
    },
    {
     "name": "stdout",
     "output_type": "stream",
     "text": [
      "Epoch: 69, Train Loss: 0.31196999227880834, Test Loss: 0.9832670706510543\n"
     ]
    },
    {
     "name": "stderr",
     "output_type": "stream",
     "text": [
      " 71%|███████   | 71/100 [2:26:33<59:41, 123.51s/it]  "
     ]
    },
    {
     "name": "stdout",
     "output_type": "stream",
     "text": [
      "Epoch: 70, Train Loss: 0.30842507312345746, Test Loss: 0.9898216986656189\n"
     ]
    },
    {
     "name": "stderr",
     "output_type": "stream",
     "text": [
      " 72%|███████▏  | 72/100 [2:28:37<57:40, 123.59s/it]"
     ]
    },
    {
     "name": "stdout",
     "output_type": "stream",
     "text": [
      "Epoch: 71, Train Loss: 0.3033208087011797, Test Loss: 0.9860882312059402\n"
     ]
    },
    {
     "name": "stderr",
     "output_type": "stream",
     "text": [
      " 73%|███████▎  | 73/100 [2:30:41<55:37, 123.63s/it]"
     ]
    },
    {
     "name": "stdout",
     "output_type": "stream",
     "text": [
      "Epoch: 72, Train Loss: 0.2969785558443573, Test Loss: 0.9880221402645111\n"
     ]
    },
    {
     "name": "stderr",
     "output_type": "stream",
     "text": [
      " 74%|███████▍  | 74/100 [2:32:44<53:33, 123.60s/it]"
     ]
    },
    {
     "name": "stdout",
     "output_type": "stream",
     "text": [
      "Epoch: 73, Train Loss: 0.29257280787630896, Test Loss: 0.990030533671379\n"
     ]
    },
    {
     "name": "stderr",
     "output_type": "stream",
     "text": [
      " 75%|███████▌  | 75/100 [2:34:48<51:29, 123.59s/it]"
     ]
    },
    {
     "name": "stdout",
     "output_type": "stream",
     "text": [
      "Epoch: 74, Train Loss: 0.28965741908879733, Test Loss: 1.0036188495159148\n"
     ]
    },
    {
     "name": "stderr",
     "output_type": "stream",
     "text": [
      " 76%|███████▌  | 76/100 [2:36:51<49:25, 123.57s/it]"
     ]
    },
    {
     "name": "stdout",
     "output_type": "stream",
     "text": [
      "Epoch: 75, Train Loss: 0.28658976110082174, Test Loss: 1.0060695266723634\n"
     ]
    },
    {
     "name": "stderr",
     "output_type": "stream",
     "text": [
      " 77%|███████▋  | 77/100 [2:38:55<47:24, 123.66s/it]"
     ]
    },
    {
     "name": "stdout",
     "output_type": "stream",
     "text": [
      "Epoch: 76, Train Loss: 0.2869123524457366, Test Loss: 1.0077113562822342\n"
     ]
    },
    {
     "name": "stderr",
     "output_type": "stream",
     "text": [
      " 78%|███████▊  | 78/100 [2:40:58<45:16, 123.48s/it]"
     ]
    },
    {
     "name": "stdout",
     "output_type": "stream",
     "text": [
      "Epoch: 77, Train Loss: 0.2797270599921145, Test Loss: 1.0090661644935608\n"
     ]
    },
    {
     "name": "stderr",
     "output_type": "stream",
     "text": [
      " 79%|███████▉  | 79/100 [2:43:02<43:14, 123.56s/it]"
     ]
    },
    {
     "name": "stdout",
     "output_type": "stream",
     "text": [
      "Epoch: 78, Train Loss: 0.27228720912981275, Test Loss: 1.0076010203361512\n"
     ]
    },
    {
     "name": "stderr",
     "output_type": "stream",
     "text": [
      " 80%|████████  | 80/100 [2:45:05<41:11, 123.59s/it]"
     ]
    },
    {
     "name": "stdout",
     "output_type": "stream",
     "text": [
      "Epoch: 79, Train Loss: 0.26848952446001856, Test Loss: 1.0080369591712952\n"
     ]
    },
    {
     "name": "stderr",
     "output_type": "stream",
     "text": [
      " 81%|████████  | 81/100 [2:47:08<39:03, 123.37s/it]"
     ]
    },
    {
     "name": "stdout",
     "output_type": "stream",
     "text": [
      "Epoch: 80, Train Loss: 0.26724835163235067, Test Loss: 1.021067392230034\n"
     ]
    },
    {
     "name": "stderr",
     "output_type": "stream",
     "text": [
      " 82%|████████▏ | 82/100 [2:49:12<37:01, 123.41s/it]"
     ]
    },
    {
     "name": "stdout",
     "output_type": "stream",
     "text": [
      "Epoch: 81, Train Loss: 0.26427091845315903, Test Loss: 1.013731126189232\n"
     ]
    },
    {
     "name": "stderr",
     "output_type": "stream",
     "text": [
      " 83%|████████▎ | 83/100 [2:51:15<34:55, 123.29s/it]"
     ]
    },
    {
     "name": "stdout",
     "output_type": "stream",
     "text": [
      "Epoch: 82, Train Loss: 0.2610260331301234, Test Loss: 1.0174242448806763\n"
     ]
    },
    {
     "name": "stderr",
     "output_type": "stream",
     "text": [
      " 84%|████████▍ | 84/100 [2:53:18<32:53, 123.36s/it]"
     ]
    },
    {
     "name": "stdout",
     "output_type": "stream",
     "text": [
      "Epoch: 83, Train Loss: 0.2546066192526314, Test Loss: 1.024842211008072\n"
     ]
    },
    {
     "name": "stderr",
     "output_type": "stream",
     "text": [
      " 85%|████████▌ | 85/100 [2:55:22<30:51, 123.42s/it]"
     ]
    },
    {
     "name": "stdout",
     "output_type": "stream",
     "text": [
      "Epoch: 84, Train Loss: 0.25125569011548055, Test Loss: 1.0291671192646026\n"
     ]
    },
    {
     "name": "stderr",
     "output_type": "stream",
     "text": [
      " 86%|████████▌ | 86/100 [2:57:25<28:47, 123.42s/it]"
     ]
    },
    {
     "name": "stdout",
     "output_type": "stream",
     "text": [
      "Epoch: 85, Train Loss: 0.2509644222094785, Test Loss: 1.0222955310344697\n"
     ]
    },
    {
     "name": "stderr",
     "output_type": "stream",
     "text": [
      " 87%|████████▋ | 87/100 [2:59:29<26:45, 123.53s/it]"
     ]
    },
    {
     "name": "stdout",
     "output_type": "stream",
     "text": [
      "Epoch: 86, Train Loss: 0.24260508752048915, Test Loss: 1.0246473556756974\n"
     ]
    },
    {
     "name": "stderr",
     "output_type": "stream",
     "text": [
      " 88%|████████▊ | 88/100 [3:01:32<24:41, 123.44s/it]"
     ]
    },
    {
     "name": "stdout",
     "output_type": "stream",
     "text": [
      "Epoch: 87, Train Loss: 0.24116310604553126, Test Loss: 1.0339488542079927\n"
     ]
    },
    {
     "name": "stderr",
     "output_type": "stream",
     "text": [
      " 89%|████████▉ | 89/100 [3:03:36<22:37, 123.41s/it]"
     ]
    },
    {
     "name": "stdout",
     "output_type": "stream",
     "text": [
      "Epoch: 88, Train Loss: 0.24085558973365093, Test Loss: 1.0364917153120041\n"
     ]
    },
    {
     "name": "stderr",
     "output_type": "stream",
     "text": [
      " 90%|█████████ | 90/100 [3:05:39<20:33, 123.38s/it]"
     ]
    },
    {
     "name": "stdout",
     "output_type": "stream",
     "text": [
      "Epoch: 89, Train Loss: 0.23537320523855076, Test Loss: 1.0363112318515777\n"
     ]
    },
    {
     "name": "stderr",
     "output_type": "stream",
     "text": [
      " 91%|█████████ | 91/100 [3:07:42<18:29, 123.29s/it]"
     ]
    },
    {
     "name": "stdout",
     "output_type": "stream",
     "text": [
      "Epoch: 90, Train Loss: 0.23556178201682604, Test Loss: 1.040226281285286\n"
     ]
    },
    {
     "name": "stderr",
     "output_type": "stream",
     "text": [
      " 92%|█████████▏| 92/100 [3:09:46<16:27, 123.43s/it]"
     ]
    },
    {
     "name": "stdout",
     "output_type": "stream",
     "text": [
      "Epoch: 91, Train Loss: 0.2310415400033021, Test Loss: 1.047361701130867\n"
     ]
    },
    {
     "name": "stderr",
     "output_type": "stream",
     "text": [
      " 93%|█████████▎| 93/100 [3:11:49<14:24, 123.45s/it]"
     ]
    },
    {
     "name": "stdout",
     "output_type": "stream",
     "text": [
      "Epoch: 92, Train Loss: 0.23031144956098729, Test Loss: 1.0438429564237595\n"
     ]
    },
    {
     "name": "stderr",
     "output_type": "stream",
     "text": [
      " 94%|█████████▍| 94/100 [3:13:53<12:20, 123.39s/it]"
     ]
    },
    {
     "name": "stdout",
     "output_type": "stream",
     "text": [
      "Epoch: 93, Train Loss: 0.22757805932556566, Test Loss: 1.0475970804691315\n"
     ]
    },
    {
     "name": "stderr",
     "output_type": "stream",
     "text": [
      " 95%|█████████▌| 95/100 [3:15:56<10:17, 123.41s/it]"
     ]
    },
    {
     "name": "stdout",
     "output_type": "stream",
     "text": [
      "Epoch: 94, Train Loss: 0.22751960914638175, Test Loss: 1.0545192509889603\n"
     ]
    },
    {
     "name": "stderr",
     "output_type": "stream",
     "text": [
      " 96%|█████████▌| 96/100 [3:18:00<08:14, 123.53s/it]"
     ]
    },
    {
     "name": "stdout",
     "output_type": "stream",
     "text": [
      "Epoch: 95, Train Loss: 0.22064234892926624, Test Loss: 1.0491971176862718\n"
     ]
    },
    {
     "name": "stderr",
     "output_type": "stream",
     "text": [
      " 97%|█████████▋| 97/100 [3:20:04<06:10, 123.59s/it]"
     ]
    },
    {
     "name": "stdout",
     "output_type": "stream",
     "text": [
      "Epoch: 96, Train Loss: 0.217346768732646, Test Loss: 1.0585578399896622\n"
     ]
    },
    {
     "name": "stderr",
     "output_type": "stream",
     "text": [
      " 98%|█████████▊| 98/100 [3:22:07<04:07, 123.55s/it]"
     ]
    },
    {
     "name": "stdout",
     "output_type": "stream",
     "text": [
      "Epoch: 97, Train Loss: 0.2116531738683806, Test Loss: 1.0546039605140687\n"
     ]
    },
    {
     "name": "stderr",
     "output_type": "stream",
     "text": [
      " 99%|█████████▉| 99/100 [3:24:11<02:03, 123.74s/it]"
     ]
    },
    {
     "name": "stdout",
     "output_type": "stream",
     "text": [
      "Epoch: 98, Train Loss: 0.21071938515158753, Test Loss: 1.0658611744642257\n"
     ]
    },
    {
     "name": "stderr",
     "output_type": "stream",
     "text": [
      "100%|██████████| 100/100 [3:26:15<00:00, 123.75s/it]"
     ]
    },
    {
     "name": "stdout",
     "output_type": "stream",
     "text": [
      "Epoch: 99, Train Loss: 0.2113868618505684, Test Loss: 1.064922543168068\n"
     ]
    },
    {
     "name": "stderr",
     "output_type": "stream",
     "text": [
      "\n"
     ]
    }
   ],
   "source": [
    "min_loss = float('inf')\n",
    "for epoch in tqdm(range(epochs)):\n",
    "    train_loss = train_fn(transformer, train_loader, loss_fn, optimizer, device)\n",
    "    test_loss = eval_fn(transformer, test_loader, loss_fn, device)\n",
    "    \n",
    "    if test_loss < min_loss:\n",
    "        min_loss = test_loss\n",
    "        torch.save(transformer.state_dict(), \"best_translate_model.pth\")\n",
    "        \n",
    "    print(f\"Epoch: {epoch}, Train Loss: {train_loss}, Test Loss: {test_loss}\")\n",
    "torch.save(transformer.state_dict(), \"last_translate_model.pth\")"
   ]
  }
 ],
 "metadata": {
  "kaggle": {
   "accelerator": "gpu",
   "dataSources": [
    {
     "datasetId": 1472191,
     "sourceId": 2432854,
     "sourceType": "datasetVersion"
    }
   ],
   "dockerImageVersionId": 30733,
   "isGpuEnabled": true,
   "isInternetEnabled": true,
   "language": "python",
   "sourceType": "notebook"
  },
  "kernelspec": {
   "display_name": "Python 3",
   "language": "python",
   "name": "python3"
  },
  "language_info": {
   "codemirror_mode": {
    "name": "ipython",
    "version": 3
   },
   "file_extension": ".py",
   "mimetype": "text/x-python",
   "name": "python",
   "nbconvert_exporter": "python",
   "pygments_lexer": "ipython3",
   "version": "3.11.0"
  },
  "papermill": {
   "default_parameters": {},
   "duration": 12463.125398,
   "end_time": "2024-07-06T20:16:49.716937",
   "environment_variables": {},
   "exception": null,
   "input_path": "__notebook__.ipynb",
   "output_path": "__notebook__.ipynb",
   "parameters": {},
   "start_time": "2024-07-06T16:49:06.591539",
   "version": "2.5.0"
  }
 },
 "nbformat": 4,
 "nbformat_minor": 5
}
